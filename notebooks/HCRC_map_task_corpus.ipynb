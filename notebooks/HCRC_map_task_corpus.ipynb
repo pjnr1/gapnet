{
 "cells": [
  {
   "cell_type": "markdown",
   "source": [
    "# HCRC map task corpus\n",
    "\n",
    "This notebook acts a nifty little tool to download the dialogues from the HCRC map task corpus"
   ],
   "metadata": {
    "collapsed": false
   }
  },
  {
   "cell_type": "code",
   "execution_count": 5,
   "outputs": [
    {
     "data": {
      "text/plain": "['q5ec1.mix.wav',\n 'q5ec2.mix.wav',\n 'q5ec3.mix.wav',\n 'q5ec4.mix.wav',\n 'q5ec5.mix.wav',\n 'q5ec6.mix.wav',\n 'q5ec7.mix.wav',\n 'q5ec8.mix.wav',\n 'q5nc1.mix.wav',\n 'q5nc2.mix.wav',\n 'q5nc3.mix.wav',\n 'q5nc4.mix.wav',\n 'q5nc5.mix.wav',\n 'q5nc6.mix.wav',\n 'q5nc7.mix.wav',\n 'q5nc8.mix.wav',\n 'q6ec1.mix.wav',\n 'q6ec2.mix.wav',\n 'q6ec3.mix.wav',\n 'q6ec4.mix.wav',\n 'q6ec5.mix.wav',\n 'q6ec6.mix.wav',\n 'q6ec7.mix.wav',\n 'q6ec8.mix.wav',\n 'q6nc1.mix.wav',\n 'q6nc2.mix.wav',\n 'q6nc3.mix.wav',\n 'q6nc4.mix.wav',\n 'q6nc5.mix.wav',\n 'q6nc6.mix.wav',\n 'q6nc7.mix.wav',\n 'q6nc8.mix.wav',\n 'q7ec1.mix.wav',\n 'q7ec2.mix.wav',\n 'q7ec3.mix.wav',\n 'q7ec4.mix.wav',\n 'q7ec5.mix.wav',\n 'q7ec6.mix.wav',\n 'q7ec7.mix.wav',\n 'q7ec8.mix.wav',\n 'q7nc1.mix.wav',\n 'q7nc2.mix.wav',\n 'q7nc3.mix.wav',\n 'q7nc4.mix.wav',\n 'q7nc5.mix.wav',\n 'q7nc6.mix.wav',\n 'q7nc7.mix.wav',\n 'q7nc8.mix.wav',\n 'q8ec1.mix.wav',\n 'q8ec2.mix.wav',\n 'q8ec3.mix.wav',\n 'q8ec4.mix.wav',\n 'q8ec5.mix.wav',\n 'q8ec6.mix.wav',\n 'q8ec7.mix.wav',\n 'q8ec8.mix.wav',\n 'q8nc1.mix.wav',\n 'q8nc2.mix.wav',\n 'q8nc3.mix.wav',\n 'q8nc4.mix.wav',\n 'q8nc5.mix.wav',\n 'q8nc6.mix.wav',\n 'q8nc7.mix.wav',\n 'q8nc8.mix.wav']"
     },
     "execution_count": 5,
     "metadata": {},
     "output_type": "execute_result"
    }
   ],
   "source": [
    "data_url = 'https://groups.inf.ed.ac.uk/maptask/signals/dialogues/'\n",
    "\n",
    "q_range = [str(x) for x in range(1, 9)]\n",
    "l_range = ['e', 'n']\n",
    "c_range = [str(x) for x in range(1, 9)]\n",
    "\n",
    "filenames = list()\n",
    "for q in q_range:\n",
    "    for l in l_range:\n",
    "        for c in c_range:\n",
    "            filename = f'q{q}{l}c{c}.mix.wav'\n",
    "            filenames.append(filename)\n",
    "\n",
    "filenames"
   ],
   "metadata": {
    "collapsed": false
   }
  },
  {
   "cell_type": "code",
   "execution_count": 9,
   "outputs": [
    {
     "name": "stderr",
     "output_type": "stream",
     "text": [
      "/Volumes/Audio Storage/datasets/HCRC Map Task Corpus/q5ec1.mix.wav: 100%|██████████| 37.5M/37.5M [00:34<00:00, 1.13MiB/s]\n",
      "/Volumes/Audio Storage/datasets/HCRC Map Task Corpus/q5ec2.mix.wav: 100%|██████████| 25.4M/25.4M [00:26<00:00, 989kiB/s] \n",
      "/Volumes/Audio Storage/datasets/HCRC Map Task Corpus/q5ec3.mix.wav: 100%|██████████| 20.7M/20.7M [00:19<00:00, 1.12MiB/s]\n",
      "/Volumes/Audio Storage/datasets/HCRC Map Task Corpus/q5ec4.mix.wav: 100%|██████████| 22.2M/22.2M [00:20<00:00, 1.13MiB/s]\n",
      "/Volumes/Audio Storage/datasets/HCRC Map Task Corpus/q5ec5.mix.wav: 100%|██████████| 20.1M/20.1M [00:19<00:00, 1.09MiB/s]\n",
      "/Volumes/Audio Storage/datasets/HCRC Map Task Corpus/q5ec6.mix.wav: 100%|██████████| 19.5M/19.5M [00:18<00:00, 1.12MiB/s]\n",
      "/Volumes/Audio Storage/datasets/HCRC Map Task Corpus/q5ec7.mix.wav: 100%|██████████| 17.7M/17.7M [00:16<00:00, 1.11MiB/s]\n",
      "/Volumes/Audio Storage/datasets/HCRC Map Task Corpus/q5ec8.mix.wav: 100%|██████████| 21.0M/21.0M [00:20<00:00, 1.07MiB/s]\n",
      "/Volumes/Audio Storage/datasets/HCRC Map Task Corpus/q5nc1.mix.wav: 100%|██████████| 31.4M/31.4M [00:30<00:00, 1.09MiB/s]\n",
      "/Volumes/Audio Storage/datasets/HCRC Map Task Corpus/q5nc2.mix.wav: 100%|██████████| 38.0M/38.0M [00:40<00:00, 992kiB/s] \n",
      "/Volumes/Audio Storage/datasets/HCRC Map Task Corpus/q5nc3.mix.wav: 100%|██████████| 18.7M/18.7M [00:17<00:00, 1.09MiB/s]\n",
      "/Volumes/Audio Storage/datasets/HCRC Map Task Corpus/q5nc4.mix.wav: 100%|██████████| 37.0M/37.0M [00:34<00:00, 1.14MiB/s]\n",
      "/Volumes/Audio Storage/datasets/HCRC Map Task Corpus/q5nc5.mix.wav: 100%|██████████| 18.8M/18.8M [00:18<00:00, 1.06MiB/s]\n",
      "/Volumes/Audio Storage/datasets/HCRC Map Task Corpus/q5nc6.mix.wav: 100%|██████████| 27.7M/27.7M [00:27<00:00, 1.07MiB/s]\n",
      "/Volumes/Audio Storage/datasets/HCRC Map Task Corpus/q5nc7.mix.wav: 100%|██████████| 19.5M/19.5M [00:24<00:00, 839kiB/s] \n",
      "/Volumes/Audio Storage/datasets/HCRC Map Task Corpus/q5nc8.mix.wav: 100%|██████████| 22.5M/22.5M [00:21<00:00, 1.10MiB/s]\n",
      "/Volumes/Audio Storage/datasets/HCRC Map Task Corpus/q6ec1.mix.wav: 100%|██████████| 40.5M/40.5M [00:40<00:00, 1.05MiB/s]\n",
      "/Volumes/Audio Storage/datasets/HCRC Map Task Corpus/q6ec2.mix.wav: 100%|██████████| 7.33M/7.33M [00:11<00:00, 664kiB/s] \n",
      "/Volumes/Audio Storage/datasets/HCRC Map Task Corpus/q6ec3.mix.wav: 100%|██████████| 34.5M/34.5M [00:32<00:00, 1.11MiB/s]\n",
      "/Volumes/Audio Storage/datasets/HCRC Map Task Corpus/q6ec4.mix.wav: 100%|██████████| 21.4M/21.4M [00:21<00:00, 1.05MiB/s]\n",
      "/Volumes/Audio Storage/datasets/HCRC Map Task Corpus/q6ec5.mix.wav: 100%|██████████| 28.0M/28.0M [00:25<00:00, 1.14MiB/s]\n",
      "/Volumes/Audio Storage/datasets/HCRC Map Task Corpus/q6ec6.mix.wav: 100%|██████████| 18.8M/18.8M [00:27<00:00, 706kiB/s]\n",
      "/Volumes/Audio Storage/datasets/HCRC Map Task Corpus/q6ec7.mix.wav: 100%|██████████| 19.0M/19.0M [00:18<00:00, 1.06MiB/s]\n",
      "/Volumes/Audio Storage/datasets/HCRC Map Task Corpus/q6ec8.mix.wav: 100%|██████████| 29.4M/29.4M [00:27<00:00, 1.13MiB/s]\n",
      "/Volumes/Audio Storage/datasets/HCRC Map Task Corpus/q6nc1.mix.wav: 100%|██████████| 25.3M/25.3M [00:23<00:00, 1.12MiB/s]\n",
      "/Volumes/Audio Storage/datasets/HCRC Map Task Corpus/q6nc2.mix.wav: 100%|██████████| 59.8M/59.8M [00:56<00:00, 1.11MiB/s]\n",
      "/Volumes/Audio Storage/datasets/HCRC Map Task Corpus/q6nc3.mix.wav: 100%|██████████| 25.9M/25.9M [00:28<00:00, 946kiB/s] \n",
      "/Volumes/Audio Storage/datasets/HCRC Map Task Corpus/q6nc4.mix.wav: 100%|██████████| 35.6M/35.6M [00:36<00:00, 1.03MiB/s]\n",
      "/Volumes/Audio Storage/datasets/HCRC Map Task Corpus/q6nc5.mix.wav: 100%|██████████| 22.4M/22.4M [00:21<00:00, 1.10MiB/s]\n",
      "/Volumes/Audio Storage/datasets/HCRC Map Task Corpus/q6nc6.mix.wav: 100%|██████████| 29.1M/29.1M [00:27<00:00, 1.10MiB/s]\n",
      "/Volumes/Audio Storage/datasets/HCRC Map Task Corpus/q6nc7.mix.wav: 100%|██████████| 24.2M/24.2M [00:22<00:00, 1.12MiB/s]\n",
      "/Volumes/Audio Storage/datasets/HCRC Map Task Corpus/q6nc8.mix.wav: 100%|██████████| 24.7M/24.7M [00:28<00:00, 915kiB/s] \n",
      "/Volumes/Audio Storage/datasets/HCRC Map Task Corpus/q7ec1.mix.wav: 100%|██████████| 30.9M/30.9M [00:29<00:00, 1.11MiB/s]\n",
      "/Volumes/Audio Storage/datasets/HCRC Map Task Corpus/q7ec2.mix.wav: 100%|██████████| 73.8M/73.8M [01:08<00:00, 1.12MiB/s]\n",
      "/Volumes/Audio Storage/datasets/HCRC Map Task Corpus/q7ec3.mix.wav: 100%|██████████| 34.1M/34.1M [00:33<00:00, 1.08MiB/s]\n",
      "/Volumes/Audio Storage/datasets/HCRC Map Task Corpus/q7ec4.mix.wav: 100%|██████████| 36.0M/36.0M [00:34<00:00, 1.10MiB/s]\n",
      "/Volumes/Audio Storage/datasets/HCRC Map Task Corpus/q7ec5.mix.wav: 100%|██████████| 25.0M/25.0M [00:25<00:00, 1.03MiB/s]\n",
      "/Volumes/Audio Storage/datasets/HCRC Map Task Corpus/q7ec6.mix.wav: 100%|██████████| 87.0M/87.0M [01:22<00:00, 1.11MiB/s]\n",
      "/Volumes/Audio Storage/datasets/HCRC Map Task Corpus/q7ec7.mix.wav: 100%|██████████| 24.5M/24.5M [00:24<00:00, 1.04MiB/s]\n",
      "/Volumes/Audio Storage/datasets/HCRC Map Task Corpus/q7ec8.mix.wav: 100%|██████████| 62.9M/62.9M [01:00<00:00, 1.09MiB/s]\n",
      "/Volumes/Audio Storage/datasets/HCRC Map Task Corpus/q7nc1.mix.wav: 100%|██████████| 27.4M/27.4M [00:26<00:00, 1.08MiB/s]\n",
      "/Volumes/Audio Storage/datasets/HCRC Map Task Corpus/q7nc2.mix.wav: 100%|██████████| 48.1M/48.1M [00:48<00:00, 1.03MiB/s]\n",
      "/Volumes/Audio Storage/datasets/HCRC Map Task Corpus/q7nc3.mix.wav: 100%|██████████| 30.2M/30.2M [00:32<00:00, 985kiB/s] \n",
      "/Volumes/Audio Storage/datasets/HCRC Map Task Corpus/q7nc4.mix.wav: 100%|██████████| 35.2M/35.2M [00:35<00:00, 1.05MiB/s]\n",
      "/Volumes/Audio Storage/datasets/HCRC Map Task Corpus/q7nc5.mix.wav: 100%|██████████| 32.3M/32.3M [00:30<00:00, 1.09MiB/s]\n",
      "/Volumes/Audio Storage/datasets/HCRC Map Task Corpus/q7nc6.mix.wav: 100%|██████████| 12.4M/12.4M [00:11<00:00, 1.10MiB/s]\n",
      "/Volumes/Audio Storage/datasets/HCRC Map Task Corpus/q7nc7.mix.wav: 100%|██████████| 22.1M/22.1M [00:20<00:00, 1.11MiB/s]\n",
      "/Volumes/Audio Storage/datasets/HCRC Map Task Corpus/q7nc8.mix.wav: 100%|██████████| 15.2M/15.2M [00:14<00:00, 1.08MiB/s]\n",
      "/Volumes/Audio Storage/datasets/HCRC Map Task Corpus/q8ec1.mix.wav: 100%|██████████| 45.0M/45.0M [00:42<00:00, 1.11MiB/s]\n",
      "/Volumes/Audio Storage/datasets/HCRC Map Task Corpus/q8ec2.mix.wav: 100%|██████████| 19.6M/19.6M [00:18<00:00, 1.13MiB/s]\n",
      "/Volumes/Audio Storage/datasets/HCRC Map Task Corpus/q8ec3.mix.wav: 100%|██████████| 23.9M/23.9M [00:22<00:00, 1.09MiB/s]\n",
      "/Volumes/Audio Storage/datasets/HCRC Map Task Corpus/q8ec4.mix.wav: 100%|██████████| 47.9M/47.9M [00:49<00:00, 1.02MiB/s]\n",
      "/Volumes/Audio Storage/datasets/HCRC Map Task Corpus/q8ec5.mix.wav: 100%|██████████| 25.9M/25.9M [00:24<00:00, 1.09MiB/s]\n",
      "/Volumes/Audio Storage/datasets/HCRC Map Task Corpus/q8ec6.mix.wav: 100%|██████████| 47.4M/47.4M [00:52<00:00, 947kiB/s] \n",
      "/Volumes/Audio Storage/datasets/HCRC Map Task Corpus/q8ec7.mix.wav: 100%|██████████| 32.3M/32.3M [00:34<00:00, 987kiB/s] \n",
      "/Volumes/Audio Storage/datasets/HCRC Map Task Corpus/q8ec8.mix.wav: 100%|██████████| 21.1M/21.1M [00:20<00:00, 1.09MiB/s]\n",
      "/Volumes/Audio Storage/datasets/HCRC Map Task Corpus/q8nc1.mix.wav: 100%|██████████| 28.9M/28.9M [00:27<00:00, 1.12MiB/s]\n",
      "/Volumes/Audio Storage/datasets/HCRC Map Task Corpus/q8nc2.mix.wav: 100%|██████████| 15.0M/15.0M [00:15<00:00, 1.02MiB/s]\n",
      "/Volumes/Audio Storage/datasets/HCRC Map Task Corpus/q8nc3.mix.wav: 100%|██████████| 22.6M/22.6M [00:22<00:00, 1.03MiB/s]\n",
      "/Volumes/Audio Storage/datasets/HCRC Map Task Corpus/q8nc4.mix.wav: 100%|██████████| 22.1M/22.1M [00:24<00:00, 933kiB/s] \n",
      "/Volumes/Audio Storage/datasets/HCRC Map Task Corpus/q8nc5.mix.wav: 100%|██████████| 45.9M/45.9M [00:45<00:00, 1.05MiB/s]\n",
      "/Volumes/Audio Storage/datasets/HCRC Map Task Corpus/q8nc6.mix.wav: 100%|██████████| 17.0M/17.0M [00:17<00:00, 1.04MiB/s]\n",
      "/Volumes/Audio Storage/datasets/HCRC Map Task Corpus/q8nc7.mix.wav: 100%|██████████| 22.2M/22.2M [00:21<00:00, 1.10MiB/s]\n",
      "/Volumes/Audio Storage/datasets/HCRC Map Task Corpus/q8nc8.mix.wav: 100%|██████████| 28.3M/28.3M [00:28<00:00, 1.05MiB/s]\n"
     ]
    }
   ],
   "source": [
    "import os\n",
    "from data_creation.files.tools import download\n",
    "\n",
    "output_folder = '/Volumes/Audio Storage/datasets/HCRC Map Task Corpus/'\n",
    "\n",
    "for fn in filenames:\n",
    "    download(url=data_url + fn,\n",
    "             fname=os.path.join(output_folder, fn))"
   ],
   "metadata": {
    "collapsed": false
   }
  },
  {
   "cell_type": "code",
   "execution_count": null,
   "outputs": [],
   "source": [],
   "metadata": {
    "collapsed": false
   }
  }
 ],
 "metadata": {
  "kernelspec": {
   "display_name": "Python 3",
   "language": "python",
   "name": "python3"
  },
  "language_info": {
   "codemirror_mode": {
    "name": "ipython",
    "version": 2
   },
   "file_extension": ".py",
   "mimetype": "text/x-python",
   "name": "python",
   "nbconvert_exporter": "python",
   "pygments_lexer": "ipython2",
   "version": "2.7.6"
  }
 },
 "nbformat": 4,
 "nbformat_minor": 0
}
