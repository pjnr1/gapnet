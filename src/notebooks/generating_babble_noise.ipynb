{
 "cells": [
  {
   "cell_type": "markdown",
   "source": [
    "# Generating Babble Noise\n",
    "\n",
    "The following notebook explicitly describes the process of generating babble noise for training DNNs for gap detection\n",
    "\n",
    "The goal is that after going through this notebook, you should everything for generating the babble noise data set used in the thesis, or a new from other speech corpus."
   ],
   "metadata": {
    "collapsed": false
   }
  },
  {
   "cell_type": "markdown",
   "source": [
    "## Imports\n",
    "\n",
    "All needed external packages should be included here for a neat overview and easy reading experience."
   ],
   "metadata": {
    "collapsed": false
   }
  },
  {
   "cell_type": "code",
   "execution_count": null,
   "outputs": [],
   "source": [
    "import glob\n",
    "import os\n",
    "\n",
    "import numpy as np"
   ],
   "metadata": {
    "collapsed": false
   }
  },
  {
   "cell_type": "markdown",
   "source": [
    "## Paths\n",
    "\n",
    "The following section should set all variables for filepaths and datafolders etc.\n",
    "\n",
    "Thus making it easy to rewrite the notebook for another workspace."
   ],
   "metadata": {
    "collapsed": false
   }
  },
  {
   "cell_type": "code",
   "execution_count": null,
   "outputs": [],
   "source": [
    "# One folder for containing all data\n",
    "data_folder = '/Users/jenslindahl/repos/msc_thesis/data'\n",
    "\n",
    "# Folder that contains single-speech recordings\n",
    "speech_folder = os.path.join(data_folder, 'HCRC Map Task Corpus')\n",
    "\n",
    "# Folder for the combined babble-noise files\n",
    "babble_folder = os.path.join(data_folder, 'HCRC Babble')\n",
    "\n",
    "# Folder for the created stimuli\n",
    "output_folder = os.path.join(data_folder, 'an_stimuli')\n",
    "\n",
    "wav_files = glob.glob(os.path.join(data_folder, '*.wav'))\n"
   ],
   "metadata": {
    "collapsed": false
   }
  },
  {
   "cell_type": "markdown",
   "source": [
    "## Conditions\n",
    "\n",
    "The following section sets the conditions for generating the babble noise stimuli\n"
   ],
   "metadata": {
    "collapsed": false
   }
  },
  {
   "cell_type": "code",
   "execution_count": null,
   "outputs": [],
   "source": [
    "# General stimuli parameters\n",
    "sampling_frequency = int(100e3)  # in hertz\n",
    "stimulus_start = 0.0  # in seconds\n",
    "stimulus_duration = 0.7  # in seconds\n",
    "\n",
    "# Ramp parameters\n",
    "ramp_function = 'hann'\n",
    "ramp_duration = 2.5e-3  # in seconds\n",
    "\n",
    "# Noise parameters\n",
    "noise_start = 0.1  # in seconds\n",
    "noise_duration = 0.5  # in seconds\n",
    "noise_bandwidth = [20, 14e3]  # in hertz\n",
    "\n",
    "# Gap duration and placement boundaries\n",
    "gap_min_length = 0.5e-3\n",
    "gap_max_length = 100e-3\n",
    "gap_min_position = noise_start + 0.1\n",
    "gap_max_position = noise_start + noise_duration - 0.1\n",
    "\n",
    "# Output parameters\n",
    "n_stimuli = 400\n"
   ],
   "metadata": {
    "collapsed": false
   }
  }
 ],
 "metadata": {
  "kernelspec": {
   "display_name": "Python 3",
   "language": "python",
   "name": "python3"
  },
  "language_info": {
   "codemirror_mode": {
    "name": "ipython",
    "version": 2
   },
   "file_extension": ".py",
   "mimetype": "text/x-python",
   "name": "python",
   "nbconvert_exporter": "python",
   "pygments_lexer": "ipython2",
   "version": "2.7.6"
  }
 },
 "nbformat": 4,
 "nbformat_minor": 0
}
